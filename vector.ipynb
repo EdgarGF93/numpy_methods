{
 "cells": [
  {
   "cell_type": "code",
   "execution_count": 1,
   "id": "78408bb5-0b66-4639-9f5f-2f695875ea59",
   "metadata": {},
   "outputs": [],
   "source": [
    "import numpy as np\n",
    "import matplotlib.pyplot as plt"
   ]
  },
  {
   "cell_type": "code",
   "execution_count": 30,
   "id": "739f971f-97ab-43d3-b0c1-1c215aee3307",
   "metadata": {},
   "outputs": [],
   "source": [
    "X0 = 0; Y0 = 0\n",
    "X1 = 1; Y1 = 1"
   ]
  },
  {
   "cell_type": "code",
   "execution_count": 31,
   "id": "8c978ca0-35f7-4c4e-9c20-ac2a4efb5aee",
   "metadata": {},
   "outputs": [],
   "source": [
    "def vector(x0, x1, y0, y1):\n",
    "    return (x1 - x0, y1 - y0)"
   ]
  },
  {
   "cell_type": "code",
   "execution_count": 70,
   "id": "a6d5e76b-d433-43f0-8fee-8ee2641b3f3a",
   "metadata": {},
   "outputs": [],
   "source": [
    "def rot_2d(vector, theta):\n",
    "    theta = np.radians(theta)\n",
    "    R = np.array(\n",
    "        [\n",
    "            [np.cos(theta), -np.sin(theta)],\n",
    "            [np.sin(theta), np.cos(theta)],\n",
    "        ],\n",
    "    )\n",
    "    vector = np.asarray(vector)\n",
    "    vector_rotated = np.matmul(R, vector.T)\n",
    "    return vector_rotated"
   ]
  },
  {
   "cell_type": "code",
   "execution_count": 72,
   "id": "2657c55e-5249-47b6-9c85-69701e6101c3",
   "metadata": {},
   "outputs": [],
   "source": [
    "def rot_3d_x(vector, theta):\n",
    "    theta = np.radians(theta)\n",
    "    R = np.array(\n",
    "        [\n",
    "            [1, 0, 0],\n",
    "            [0, np.cos(theta), -np.sin(theta)],\n",
    "            [0, np.sin(theta), np.cos(theta)],\n",
    "        ],\n",
    "    )    \n",
    "    vector = np.asarray(vector)\n",
    "    vector_rotated = np.matmul(R, vector.T)\n",
    "    return vector_rotated"
   ]
  },
  {
   "cell_type": "code",
   "execution_count": 73,
   "id": "53e6d0e0-a307-419a-8a1a-54dc92bab9b5",
   "metadata": {},
   "outputs": [],
   "source": [
    "def rot_3d_y(vector, theta):\n",
    "    theta = np.radians(theta)\n",
    "    R = np.array(\n",
    "        [\n",
    "            [np.cos(theta), 0, np.sin(theta)],\n",
    "            [0, 1, 0],\n",
    "            [-np.sin(theta), 0, np.cos(theta)],\n",
    "        ],\n",
    "    )    \n",
    "    vector = np.asarray(vector)\n",
    "    vector_rotated = np.matmul(R, vector.T)\n",
    "    return vector_rotated"
   ]
  },
  {
   "cell_type": "code",
   "execution_count": 74,
   "id": "9c7d5db8-c7d5-48e3-8095-dbb93934a1df",
   "metadata": {},
   "outputs": [],
   "source": [
    "def rot_3d_z(vector, theta):\n",
    "    theta = np.radians(theta)\n",
    "    R = np.array(\n",
    "        [\n",
    "            [np.cos(theta), -np.sin(theta), 0],\n",
    "            [np.sin(theta), np.cos(theta), 0],\n",
    "            [0, 0, 1],\n",
    "        ],\n",
    "    )    \n",
    "    vector = np.asarray(vector)\n",
    "    vector_rotated = np.matmul(R, vector.T)\n",
    "    return vector_rotated"
   ]
  },
  {
   "cell_type": "code",
   "execution_count": 75,
   "id": "0869d9c4-ffb8-411f-8739-d3bf60eefb49",
   "metadata": {},
   "outputs": [],
   "source": [
    "w1 = (1,0,0)"
   ]
  },
  {
   "cell_type": "code",
   "execution_count": 79,
   "id": "cd73dfd2-f0a2-4ac3-9dc7-baa4f2790651",
   "metadata": {},
   "outputs": [
    {
     "data": {
      "text/plain": [
       "array([0.8660254, 0.5      , 0.       ])"
      ]
     },
     "execution_count": 79,
     "metadata": {},
     "output_type": "execute_result"
    }
   ],
   "source": [
    "rot_3d_z(vector=w1, theta=30)"
   ]
  },
  {
   "cell_type": "code",
   "execution_count": null,
   "id": "d9d6f475-7dcd-46ee-a92c-1075277880d9",
   "metadata": {},
   "outputs": [],
   "source": []
  },
  {
   "cell_type": "code",
   "execution_count": null,
   "id": "34cc9f29-21d9-4924-8e57-8e99a25b45ce",
   "metadata": {},
   "outputs": [],
   "source": []
  },
  {
   "cell_type": "code",
   "execution_count": null,
   "id": "029abaed-3a46-474d-81bc-70f9e3890658",
   "metadata": {},
   "outputs": [],
   "source": []
  },
  {
   "cell_type": "code",
   "execution_count": null,
   "id": "cbd3167b-0449-41ac-b67d-6fa9b109f9d5",
   "metadata": {},
   "outputs": [],
   "source": []
  },
  {
   "cell_type": "code",
   "execution_count": 58,
   "id": "6a86ff7c-08f0-4b7a-a629-deff6628f82d",
   "metadata": {},
   "outputs": [],
   "source": [
    "def plot_arrow(base, vector, ax):\n",
    "    ax.arrow(\n",
    "        x=base[0],\n",
    "        y=base[1],\n",
    "        dx=vector[0],\n",
    "        dy=vector[1],\n",
    "        head_width = 0.05,\n",
    "        head_length = 0.1,\n",
    "    )"
   ]
  },
  {
   "cell_type": "code",
   "execution_count": 68,
   "id": "6149da36-214e-435f-8fdb-5ded75d24f2c",
   "metadata": {},
   "outputs": [],
   "source": [
    "v1 = vector(X0,X1,Y0,Y1)\n",
    "v1_rotated = rot_2d(vector=v1, theta=30)\n",
    "v1_rotated_2 = rot_2d(vector=v1, theta=90)\n",
    "v1_rotated_3 = rot_2d(vector=v1, theta=180)"
   ]
  },
  {
   "cell_type": "code",
   "execution_count": 69,
   "id": "f5b24bc9-867b-4617-950b-788e992c81d5",
   "metadata": {},
   "outputs": [
    {
     "data": {
      "image/png": "[encoded data removed]",
      "text/plain": [
       "<Figure size 640x480 with 1 Axes>"
      ]
     },
     "metadata": {},
     "output_type": "display_data"
    }
   ],
   "source": [
    "fig, ax = plt.subplots(ncols=1, nrows=1)\n",
    "plot_arrow(base=(0,0), vector=v1, ax=ax)\n",
    "plot_arrow(base=(0,0), vector=v1_rotated, ax=ax)\n",
    "plot_arrow(base=(0,0), vector=v1_rotated_2, ax=ax)\n",
    "plot_arrow(base=(0,0), vector=v1_rotated_3, ax=ax)"
   ]
  },
  {
   "cell_type": "code",
   "execution_count": null,
   "id": "e61edc34-055a-4fa0-8ed8-2ed251bb748a",
   "metadata": {},
   "outputs": [],
   "source": []
  },
  {
   "cell_type": "code",
   "execution_count": null,
   "id": "3056424a-77b1-4d41-ac1e-2fdb4e8739c0",
   "metadata": {},
   "outputs": [],
   "source": []
  },
  {
   "cell_type": "code",
   "execution_count": null,
   "id": "b65ade2f-7976-4218-a9ba-511c337e55fd",
   "metadata": {},
   "outputs": [],
   "source": []
  }
 ],
 "metadata": {
  "kernelspec": {
   "display_name": "Python 3 (ipykernel)",
   "language": "python",
   "name": "python3"
  },
  "language_info": {
   "codemirror_mode": {
    "name": "ipython",
    "version": 3
   },
   "file_extension": ".py",
   "mimetype": "text/x-python",
   "name": "python",
   "nbconvert_exporter": "python",
   "pygments_lexer": "ipython3",
   "version": "3.10.9"
  }
 },
 "nbformat": 4,
 "nbformat_minor": 5
}
